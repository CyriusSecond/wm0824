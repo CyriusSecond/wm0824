{
 "cells": [
  {
   "cell_type": "code",
   "execution_count": 240,
   "metadata": {},
   "outputs": [],
   "source": [
    "# Default\n",
    "import os\n",
    "from pprint import pprint\n",
    "import pandas as pd\n",
    "\n",
    "# OTX API\n",
    "from OTXv2 import OTXv2\n",
    "from OTXv2 import IndicatorTypes\n"
   ]
  },
  {
   "cell_type": "code",
   "execution_count": 320,
   "metadata": {},
   "outputs": [],
   "source": [
    "# Initialize the OTXv2 API\n",
    "otx = OTXv2(os.environ['OTXv2'])\n",
    "\n",
    "# Get all the pulses for the specief query\n",
    "ta505_vault = otx.search_pulses(query='TA505')"
   ]
  },
  {
   "cell_type": "code",
   "execution_count": 242,
   "metadata": {},
   "outputs": [],
   "source": [
    "# Template for categorizing indicators\n",
    "vault_types_505 = {\n",
    "    'ipv4': [],\n",
    "    'hostname': [],\n",
    "    'domain': [],\n",
    "    'url': [],\n",
    "    'filehash-sha256': [],\n",
    "    'filehas-sha1': [],\n",
    "    'filehash-md5': [],\n",
    "    'yara': []\n",
    "}\n",
    "\n",
    "# Fill in the template based on the indicator type\n",
    "for pulses in ta505_vault['results']:\n",
    "    for indicator in pulses['indicators']:\n",
    "        if 'ipv4' in indicator['type'].lower():\n",
    "            vault_types_505['ipv4'].append(indicator)\n",
    "        elif 'hostname' in indicator['type'].lower():\n",
    "            vault_types_505['hostname'].append(indicator)\n",
    "        elif 'domain' in indicator['type'].lower():\n",
    "            vault_types_505['domain'].append(indicator)        \n",
    "        elif 'url' in indicator['type'].lower():\n",
    "            vault_types_505['url'].append(indicator)\n",
    "        elif 'filehash-sha256' in indicator['type'].lower():\n",
    "            vault_types_505['filehash-sha256'].append(indicator)\n",
    "        elif 'filehas-sha1' in indicator['type'].lower():\n",
    "            vault_types_505['filehas-sha1'].append(indicator)\n",
    "        elif 'yara' in indicator['type'].lower():\n",
    "            vault_types_505['yara'].append(indicator)\n",
    "        elif 'filehash-md5' in indicator['type'].lower():\n",
    "            vault_types_505['filehash-md5'].append(indicator)"
   ]
  },
  {
   "cell_type": "code",
   "execution_count": 243,
   "metadata": {},
   "outputs": [],
   "source": [
    "# Load the data from local machine (unfortunately the .csv's cannot be shared)\n",
    "maastricht_df = []\n",
    "maastricht_df.append(pd.read_csv('data/samples_2020-09-28T04_55_22Z-TA505.csv'))\n",
    "maastricht_df.append(pd.read_csv('data/samples_2020-09-28T04_55_36Z-TA505.csv'))\n",
    "maastricht_df.append(pd.read_csv('data/samples_2020-09-28T04_56_06Z-TA505.csv'))"
   ]
  },
  {
   "cell_type": "code",
   "execution_count": 244,
   "metadata": {},
   "outputs": [],
   "source": [
    "# Template for categorizing indicators\n",
    "maastricht_types = {\n",
    "    'ipv4': [],\n",
    "    'hostname': [],\n",
    "    'domain': [],\n",
    "    'url': [],\n",
    "    'filehash-sha256': [],\n",
    "    'filehas-sha1': [],\n",
    "    'yara': []\n",
    "}\n",
    "# Fill in the template based on the indicator type - only the url and domain available. \n",
    "for df in maastricht_df: \n",
    "    maastricht_types['url'].extend(df[df['Type'].str.contains('URL')]['Value'].values)\n",
    "    maastricht_types['domain'].extend(df[df['Type'].str.contains('HEADER_FROM')]['Value'].values)"
   ]
  },
  {
   "cell_type": "code",
   "execution_count": 287,
   "metadata": {},
   "outputs": [],
   "source": [
    "# Make TA505 data from Delft in similar format with AlientVault data\n",
    "maastricht_df_cleaned = [] \n",
    "for maastricht_hostname in maastricht_types['domain']:\n",
    "    _char_init = maastricht_hostname.find('@') + 1\n",
    "    _char_end = maastricht_hostname.find('>')\n",
    "    maastricht_df_cleaned.append(maastricht_hostname[_char_init:_char_end])"
   ]
  },
  {
   "cell_type": "code",
   "execution_count": 289,
   "metadata": {},
   "outputs": [],
   "source": [
    "# Get similar domain names.\n",
    "_similar_505 = []\n",
    "for maastricht_hostname in maastricht_df_cleaned:\n",
    "    for vault_url in vault_types_505['domain']:\n",
    "        if maastricht_hostname.lower() in vault_url['indicator'].lower():\n",
    "            _similar_505.append(vault_url['indicator'])"
   ]
  },
  {
   "cell_type": "code",
   "execution_count": 291,
   "metadata": {},
   "outputs": [
    {
     "name": "stdout",
     "output_type": "stream",
     "text": [
      "Total 'Domain' based TA505 IOCs from AlienVault: 328\n",
      "Total 'Domain' based TA505 IOCs from Delft: 530\n",
      "Number of Similar IOCs: 0\n",
      "[]\n"
     ]
    }
   ],
   "source": [
    "print(f\"Total 'Domain' based TA505 IOCs from AlienVault: {len(vault_types_505['domain'])}\")\n",
    "print(f\"Total 'Domain' based TA505 IOCs from Delft: {len(maastricht_df_cleaned)}\")\n",
    "print(f\"Number of Similar IOCs: {len(_similar_505)}\")\n",
    "print(_similar_505)"
   ]
  },
  {
   "cell_type": "code",
   "execution_count": 292,
   "metadata": {},
   "outputs": [],
   "source": [
    "# Get similar urls. \n",
    "_similar_505 = []\n",
    "for maastricht_hostname in maastricht_types['url']:\n",
    "    for vault_url in vault_types_505['url']:\n",
    "        if maastricht_hostname.lower() in vault_url['indicator'].lower():\n",
    "            _similar_505.append(vault_url['indicator'])"
   ]
  },
  {
   "cell_type": "code",
   "execution_count": 293,
   "metadata": {},
   "outputs": [
    {
     "name": "stdout",
     "output_type": "stream",
     "text": [
      "Total 'url' based TA505 IOCs from AlienVault: 419\n",
      "Total 'url' based TA505 IOCs from Delft: 1198\n",
      "Number of Similar IOCs: 0\n",
      "[]\n"
     ]
    }
   ],
   "source": [
    "print(f\"Total 'url' based TA505 IOCs from AlienVault: {len(vault_types_505['url'])}\")\n",
    "print(f\"Total 'url' based TA505 IOCs from Delft: {len(maastricht_types['url'])}\")\n",
    "print(f\"Number of Similar IOCs: {len(_similar_505)}\")\n",
    "print(_similar_505)"
   ]
  },
  {
   "cell_type": "code",
   "execution_count": 300,
   "metadata": {},
   "outputs": [],
   "source": [
    "# Get all the pulses for the specief query\n",
    "ta542_vault = otx.search_pulses(query='TA542')\n",
    "\n",
    "\n",
    "vault_types_542 = {\n",
    "    'ipv4': [],\n",
    "    'hostname': [],\n",
    "    'domain': [],\n",
    "    'url': [],\n",
    "    'filehash-sha256': [],\n",
    "    'filehas-sha1': [],\n",
    "    'filehash-md5': [],\n",
    "    'yara': []\n",
    "}\n",
    "\n",
    "# Fill in the template based on the indicator type\n",
    "for pulses in ta542_vault['results']:\n",
    "    for indicator in pulses['indicators']:\n",
    "        if 'ipv4' in indicator['type'].lower():\n",
    "            vault_types_542['ipv4'].append(indicator)\n",
    "        elif 'hostname' in indicator['type'].lower():\n",
    "            vault_types_542['hostname'].append(indicator)\n",
    "        elif 'domain' in indicator['type'].lower():\n",
    "            vault_types_542['domain'].append(indicator)        \n",
    "        elif 'url' in indicator['type'].lower():\n",
    "            vault_types_542['url'].append(indicator)\n",
    "        elif 'filehash-sha256' in indicator['type'].lower():\n",
    "            vault_types_542['filehash-sha256'].append(indicator)\n",
    "        elif 'filehas-sha1' in indicator['type'].lower():\n",
    "            vault_types_542['filehas-sha1'].append(indicator)\n",
    "        elif 'yara' in indicator['type'].lower():\n",
    "            vault_types_542['yara'].append(indicator)\n",
    "        elif 'filehash-md5' in indicator['type'].lower():\n",
    "            vault_types_542['filehash-md5'].append(indicator)"
   ]
  },
  {
   "cell_type": "code",
   "execution_count": 301,
   "metadata": {},
   "outputs": [],
   "source": [
    "# Read dataset for TA542\n",
    "delft_df = []\n",
    "# Load the data from local machine (unfortunately the .csv's cannot be shared)\n",
    "delft_df.append(pd.read_csv('data/samples_2020-09-28T04_57_10Z-TA542 (Emotet).csv'))"
   ]
  },
  {
   "cell_type": "code",
   "execution_count": 310,
   "metadata": {},
   "outputs": [],
   "source": [
    "delft_types = {\n",
    "    'ipv4': [],\n",
    "    'hostname': [],\n",
    "    'domain': [],\n",
    "    'url': [],\n",
    "    'filehash-sha256': [],\n",
    "    'filehas-sha1': [],\n",
    "    'yara': []\n",
    "}\n",
    "\n",
    "\n",
    "for df in delft_df: \n",
    "    delft_types['url'].extend(df[df['Type'].str.contains('URL')]['Value'].values)\n",
    "    delft_types['domain'].extend(df[df['Type'].str.contains('HEADER_FROM')]['Value'].values)"
   ]
  },
  {
   "cell_type": "code",
   "execution_count": 311,
   "metadata": {},
   "outputs": [],
   "source": [
    "# Make TA542 data from Delft in similar format with AlientVault data\n",
    "delft_df_cleaned = [] \n",
    "for delft_hostname in delft_types['domain']:\n",
    "    _char_init = delft_hostname.find('@') + 1\n",
    "    _char_end = delft_hostname.find('>')\n",
    "    delft_df_cleaned.append(delft_hostname[_char_init:_char_end])"
   ]
  },
  {
   "cell_type": "code",
   "execution_count": 319,
   "metadata": {},
   "outputs": [
    {
     "name": "stdout",
     "output_type": "stream",
     "text": [
      "Total 'domain' based TA505 IOCs from AlienVault 419\n",
      "Total 'domain' based TA542 IOCs from Delft: 79\n",
      "Number of Similar IOCs: 2\n",
      "['www.chimachinenow.com', 'www.highlandfamily.org']\n"
     ]
    }
   ],
   "source": [
    "_similar_hosts = []\n",
    "for hostname_delft in delft_df_cleaned:\n",
    "    for hostname_vault in vault_types_505['hostname']:\n",
    "        if hostname_delft.lower() in hostname_vault['indicator'].lower():\n",
    "            if hostname_vault['indicator'].lower() not in _similar_hosts:\n",
    "                _similar_hosts.append(hostname_vault['indicator'])\n",
    "                break\n",
    "\n",
    "print(f\"Total 'domain' based TA505 IOCs from AlienVault {len(vault_types_505['url'])}\")\n",
    "print(f\"Total 'domain' based TA542 IOCs from Delft: {len(delft_df_cleaned)}\")\n",
    "print(f\"Number of Similar IOCs: {len(_similar_hosts)}\")\n",
    "print(_similar_hosts)"
   ]
  },
  {
   "cell_type": "code",
   "execution_count": null,
   "metadata": {},
   "outputs": [],
   "source": []
  }
 ],
 "metadata": {
  "kernelspec": {
   "display_name": "Python 3",
   "language": "python",
   "name": "python3"
  },
  "language_info": {
   "codemirror_mode": {
    "name": "ipython",
    "version": 3
   },
   "file_extension": ".py",
   "mimetype": "text/x-python",
   "name": "python",
   "nbconvert_exporter": "python",
   "pygments_lexer": "ipython3",
   "version": "3.8.5"
  }
 },
 "nbformat": 4,
 "nbformat_minor": 4
}
